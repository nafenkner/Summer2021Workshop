{
  "nbformat": 4,
  "nbformat_minor": 0,
  "metadata": {
    "colab": {
      "name": "Basic_Python_<Kaylin Roberts> ",
      "provenance": [],
      "collapsed_sections": []
    },
    "kernelspec": {
      "name": "python3",
      "display_name": "Python 3"
    },
    "language_info": {
      "name": "python"
    }
  },
  "cells": [
    {
      "cell_type": "markdown",
      "metadata": {
        "id": "p25xcLH-O2Ng"
      },
      "source": [
        "# Basic Python Review"
      ]
    },
    {
      "cell_type": "markdown",
      "metadata": {
        "id": "qmJt6AsZO_J-"
      },
      "source": [
        "## 1. For Loops\n",
        "a. Write a for loop that iterates a variable x from values 0 to 10 and prints x after each iteration."
      ]
    },
    {
      "cell_type": "code",
      "metadata": {
        "id": "cQhxTJk0OV7J",
        "colab": {
          "base_uri": "https://localhost:8080/"
        },
        "outputId": "1c048c7f-52dc-4961-e4bf-54d2c9066722"
      },
      "source": [
        "# for x in ... :\n",
        "for x in range(11):\n",
        " print(x)"
      ],
      "execution_count": 10,
      "outputs": [
        {
          "output_type": "stream",
          "text": [
            "0\n",
            "1\n",
            "2\n",
            "3\n",
            "4\n",
            "5\n",
            "6\n",
            "7\n",
            "8\n",
            "9\n",
            "10\n"
          ],
          "name": "stdout"
        }
      ]
    },
    {
      "cell_type": "markdown",
      "metadata": {
        "id": "LGwkbbdQQeIG"
      },
      "source": [
        "b. Write a for loop that iterates a vector < i , j > = < 1, 7 > with i increasing by 2 each iteration and j decreasing by 1 each iteration until i = j."
      ]
    },
    {
      "cell_type": "code",
      "metadata": {
        "id": "ujvyQtuDQfR0",
        "colab": {
          "base_uri": "https://localhost:8080/"
        },
        "outputId": "d66894ea-0b01-4fb0-9967-686ac21013fc"
      },
      "source": [
        "# for i,j in ... :\n",
        "i,j = 1,7\n",
        "for i in range(8):\n",
        "  i += 2\n",
        "  j -= 1\n",
        "  if j == i:\n",
        "    print (\"I =\"+ str(i) + \" J =\"+ str(j))"
      ],
      "execution_count": 17,
      "outputs": [
        {
          "output_type": "stream",
          "text": [
            "I =4 J =4\n"
          ],
          "name": "stdout"
        }
      ]
    },
    {
      "cell_type": "markdown",
      "metadata": {
        "id": "y0OyML6APGDg"
      },
      "source": [
        "## 2. While Loops\n",
        "a. Write a while loop that squares a variable z, initialized at 1, until z is greater then 70."
      ]
    },
    {
      "cell_type": "code",
      "metadata": {
        "id": "bI1ENOx6RPkH",
        "colab": {
          "base_uri": "https://localhost:8080/"
        },
        "outputId": "83449933-1f09-4534-8d85-5ba292ebda08"
      },
      "source": [
        "z = 1\n",
        "while z < 71:\n",
        "  z = z**2\n",
        "  print(z)\n",
        "  z = z+1\n"
      ],
      "execution_count": 23,
      "outputs": [
        {
          "output_type": "stream",
          "text": [
            "1\n",
            "4\n",
            "25\n",
            "676\n"
          ],
          "name": "stdout"
        }
      ]
    },
    {
      "cell_type": "markdown",
      "metadata": {
        "id": "2kLe8fdQRUW7"
      },
      "source": [
        "b. Write a while loop that returns the following:\n",
        "\n",
        "1010101\n",
        "\n",
        " 10101\n",
        "\n",
        "  101  \n",
        "\n",
        "   1   "
      ]
    },
    {
      "cell_type": "code",
      "metadata": {
        "id": "NaCp8sAzRWJi",
        "colab": {
          "base_uri": "https://localhost:8080/"
        },
        "outputId": "4706fe6a-cd83-4a5b-9b8e-828938d35dba"
      },
      "source": [
        "i = 0\n",
        "j = str(1010101)\n",
        "x = len(j)\n",
        "while i < 4:\n",
        "   print (j[:x])\n",
        "   x -= 2\n",
        "   i += 1\n",
        "\n",
        "   \n",
        "   "
      ],
      "execution_count": 30,
      "outputs": [
        {
          "output_type": "stream",
          "text": [
            "1010101\n",
            "10101\n",
            "101\n",
            "1\n"
          ],
          "name": "stdout"
        }
      ]
    },
    {
      "cell_type": "markdown",
      "metadata": {
        "id": "I-DmpONEPO8i"
      },
      "source": [
        "## 3. Functions\n",
        "a. Write a function that calculates the area of a Domino's pizza given a diameter, _d_. (Use 3.14 for pi)"
      ]
    },
    {
      "cell_type": "code",
      "metadata": {
        "id": "BJW9qzoNST6k"
      },
      "source": [
        "def area_pizza(d):\n",
        "  r = (d/2)**2\n",
        "  area = r *3.14\n",
        "  print(str(area))"
      ],
      "execution_count": 34,
      "outputs": []
    },
    {
      "cell_type": "markdown",
      "metadata": {
        "id": "Vg7YISnqSUX1"
      },
      "source": [
        "b. Call the function to compute the area of a large Domino's pizza (large Domino's pizza have a diameter of 14 inches)."
      ]
    },
    {
      "cell_type": "code",
      "metadata": {
        "id": "lC5c-30sTC9n",
        "colab": {
          "base_uri": "https://localhost:8080/"
        },
        "outputId": "e0362dfa-1869-474a-f62b-378b3812462c"
      },
      "source": [
        "area_pizza(14)"
      ],
      "execution_count": 35,
      "outputs": [
        {
          "output_type": "stream",
          "text": [
            "153.86\n"
          ],
          "name": "stdout"
        }
      ]
    },
    {
      "cell_type": "markdown",
      "metadata": {
        "id": "i04PDYsqPSiI"
      },
      "source": [
        "## 4. Classes\n",
        "a. Define a class _cats_ with attributes name, age, and breed.\n",
        "Add an _init_ method that creates an empty list, _toys_. Create a method _pet_, which prints the phrase 'Purrr'. Create another method _info_, which returns the cats name, age, and breed."
      ]
    },
    {
      "cell_type": "code",
      "metadata": {
        "id": "GRWFAlJkWZjU"
      },
      "source": [
        "class Cats:\n",
        "\n",
        "   def __init__(cat,name,age,breed):\n",
        "     cat.name = name\n",
        "     cat.age = age\n",
        "     cat.breed = breed\n",
        "     cat.toys = []\n",
        "\n",
        "   def pet(cat):\n",
        "    print(\"Purr\")\n",
        "\n",
        "   def info(cat):\n",
        "    print(\"NAME:\"+cat.name+\"\\nAGE:\"+cat.age + \"\\nBREED:\"+cat.breed)"
      ],
      "execution_count": 42,
      "outputs": []
    },
    {
      "cell_type": "markdown",
      "metadata": {
        "id": "TAh-1rGoWaPO"
      },
      "source": [
        "b. Create an instance of the class _cats_ with name 'Garfield', age 3, and breed 'Munchkin'."
      ]
    },
    {
      "cell_type": "code",
      "metadata": {
        "id": "NL9VnUBUZbtZ"
      },
      "source": [
        "cat1 = Cats(\"Garfield\",\"3\", \"Munchkin\")\n"
      ],
      "execution_count": 43,
      "outputs": []
    },
    {
      "cell_type": "markdown",
      "metadata": {
        "id": "g8fGczixDhnE"
      },
      "source": [
        "Call the method *pet* on the instance."
      ]
    },
    {
      "cell_type": "code",
      "metadata": {
        "id": "BCyO2qnMDhGM",
        "colab": {
          "base_uri": "https://localhost:8080/"
        },
        "outputId": "79fde4e9-bf58-4316-d964-486447c8ab12"
      },
      "source": [
        "cat1.pet()"
      ],
      "execution_count": 44,
      "outputs": [
        {
          "output_type": "stream",
          "text": [
            "Purr\n"
          ],
          "name": "stdout"
        }
      ]
    },
    {
      "cell_type": "markdown",
      "metadata": {
        "id": "38evUbyjDiAr"
      },
      "source": [
        "Call the method info on the instance."
      ]
    },
    {
      "cell_type": "code",
      "metadata": {
        "id": "Ru9W9mOwDhVM",
        "colab": {
          "base_uri": "https://localhost:8080/"
        },
        "outputId": "5efb3f47-7ced-4e34-95dc-1c3e97493d98"
      },
      "source": [
        "cat1.info()"
      ],
      "execution_count": 45,
      "outputs": [
        {
          "output_type": "stream",
          "text": [
            "NAME:Garfield\n",
            "AGE:3\n",
            "BREED:Munchkin\n"
          ],
          "name": "stdout"
        }
      ]
    }
  ]
}