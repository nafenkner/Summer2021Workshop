{
  "nbformat": 4,
  "nbformat_minor": 0,
  "metadata": {
    "colab": {
      "name": "Basic_Python_Alejandro_Barragan .ipynb",
      "provenance": [],
      "collapsed_sections": []
    },
    "kernelspec": {
      "name": "python3",
      "display_name": "Python 3"
    },
    "language_info": {
      "name": "python"
    },
    "accelerator": "GPU"
  },
  "cells": [
    {
      "cell_type": "markdown",
      "metadata": {
        "id": "p25xcLH-O2Ng"
      },
      "source": [
        "# Basic Python Review"
      ]
    },
    {
      "cell_type": "markdown",
      "metadata": {
        "id": "qmJt6AsZO_J-"
      },
      "source": [
        "## 1. For Loops\n",
        "a. Write a for loop that iterates a variable x from values 0 to 10 and prints x after each iteration."
      ]
    },
    {
      "cell_type": "code",
      "metadata": {
        "id": "cQhxTJk0OV7J"
      },
      "source": [
        "# for x in ... :\n",
        "for x in range(11):\n",
        "    print(x)"
      ],
      "execution_count": null,
      "outputs": []
    },
    {
      "cell_type": "markdown",
      "metadata": {
        "id": "LGwkbbdQQeIG"
      },
      "source": [
        "b. Write a for loop that iterates a vector < i , j > = < 1, 7 > with i increasing by 2 each iteration and j decreasing by 1 each iteration until i = j."
      ]
    },
    {
      "cell_type": "code",
      "metadata": {
        "id": "ujvyQtuDQfR0"
      },
      "source": [
        "# for i,j in ... :\n",
        "for i,j in range(7):\n",
        "  "
      ],
      "execution_count": null,
      "outputs": []
    },
    {
      "cell_type": "markdown",
      "metadata": {
        "id": "y0OyML6APGDg"
      },
      "source": [
        "## 2. While Loops\n",
        "a. Write a while loop that squares a variable z, initialized at 1, until z is greater then 70."
      ]
    },
    {
      "cell_type": "code",
      "metadata": {
        "id": "bI1ENOx6RPkH"
      },
      "source": [
        "z = 1\n",
        "# while z ... :\n",
        "while (z * z < 70):\n",
        "  print(z * z)\n",
        "  z+=1"
      ],
      "execution_count": null,
      "outputs": []
    },
    {
      "cell_type": "markdown",
      "metadata": {
        "id": "2kLe8fdQRUW7"
      },
      "source": [
        "b. Write a while loop that returns the following:\n",
        "\n",
        "1010101\n",
        "\n",
        " 10101\n",
        "\n",
        "  101  \n",
        "\n",
        "   1   "
      ]
    },
    {
      "cell_type": "code",
      "metadata": {
        "id": "NaCp8sAzRWJi"
      },
      "source": [
        "i = 4\n",
        "while i > 0:\n",
        "  j = (2*i) - 1\n",
        "  a = \"\"\n",
        "  while j > 0:\n",
        "    if j % 2 == 0:\n",
        "      a = a + \"0\"\n",
        "    else:\n",
        "      a = a + \"1\"\n",
        "    j -= 1\n",
        "  print(\"\"*(4-1),a)\n",
        "  i -= 1"
      ],
      "execution_count": null,
      "outputs": []
    },
    {
      "cell_type": "markdown",
      "metadata": {
        "id": "I-DmpONEPO8i"
      },
      "source": [
        "## 3. Functions\n",
        "a. Write a function that calculates the area of a Domino's pizza given a diameter, _d_. (Use 3.14 for pi)"
      ]
    },
    {
      "cell_type": "code",
      "metadata": {
        "id": "BJW9qzoNST6k"
      },
      "source": [
        "pi = 3.14\n",
        "def calculateArea(d):\n",
        "    print(pi * ((d/2)**2))\n",
        "    \n",
        "calculateArea(4)"
      ],
      "execution_count": null,
      "outputs": []
    },
    {
      "cell_type": "markdown",
      "metadata": {
        "id": "Vg7YISnqSUX1"
      },
      "source": [
        "b. Call the function to compute the area of a large Domino's pizza (large Domino's pizza have a diameter of 14 inches)."
      ]
    },
    {
      "cell_type": "code",
      "metadata": {
        "id": "2eK_529c9xvg"
      },
      "source": [
        "calculateArea(14)"
      ],
      "execution_count": null,
      "outputs": []
    },
    {
      "cell_type": "markdown",
      "metadata": {
        "id": "i04PDYsqPSiI"
      },
      "source": [
        "## 4. Classes\n",
        "a. Define a class _cats_ with attributes name, age, and breed.\n",
        "Add an _init_ method that creates an empty list, _toys_. Create a method _pet_, which prints the phrase 'Purrr'. Create another method _info_, which returns the cats name, age, and breed."
      ]
    },
    {
      "cell_type": "code",
      "metadata": {
        "id": "GRWFAlJkWZjU"
      },
      "source": [
        "class Cats:\n",
        "   def __init__(self, name, age, breed):\n",
        "     self.name = name\n",
        "     self.age = age\n",
        "     self.breed = breed\n",
        "     \n",
        "   def pet(self):\n",
        "     print('Purrr')\n",
        "\n",
        "   def info(self):\n",
        "      return \"[Name: %s, Age: %s, Breed: %s]\" % (self.name,self.age, self.breed)\n",
        "     "
      ],
      "execution_count": null,
      "outputs": []
    },
    {
      "cell_type": "markdown",
      "metadata": {
        "id": "TAh-1rGoWaPO"
      },
      "source": [
        "b. Create an instance of the class _cats_ with name 'Garfield', age 3, and breed 'Munchkin'."
      ]
    },
    {
      "cell_type": "code",
      "metadata": {
        "id": "NL9VnUBUZbtZ"
      },
      "source": [
        "cat1 = Cats('Garfield','3', 'Munchkin')"
      ],
      "execution_count": null,
      "outputs": []
    },
    {
      "cell_type": "markdown",
      "metadata": {
        "id": "g8fGczixDhnE"
      },
      "source": [
        "Call the method *pet* on the instance."
      ]
    },
    {
      "cell_type": "code",
      "metadata": {
        "id": "BCyO2qnMDhGM"
      },
      "source": [
        "cat1.pet()"
      ],
      "execution_count": null,
      "outputs": []
    },
    {
      "cell_type": "markdown",
      "metadata": {
        "id": "38evUbyjDiAr"
      },
      "source": [
        "Call the method info on the instance."
      ]
    },
    {
      "cell_type": "code",
      "metadata": {
        "id": "H2arxXe4T4ki"
      },
      "source": [
        "cat1.info()"
      ],
      "execution_count": null,
      "outputs": []
    }
  ]
}