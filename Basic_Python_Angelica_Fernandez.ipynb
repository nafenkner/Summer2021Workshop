{
  "nbformat": 4,
  "nbformat_minor": 0,
  "metadata": {
    "colab": {
      "name": "Basic_Python_Angelica_Fernandez.ipynb",
      "provenance": [],
      "collapsed_sections": []
    },
    "kernelspec": {
      "name": "python3",
      "display_name": "Python 3"
    },
    "language_info": {
      "name": "python"
    },
    "accelerator": "GPU"
  },
  "cells": [
    {
      "cell_type": "markdown",
      "metadata": {
        "id": "p25xcLH-O2Ng"
      },
      "source": [
        "# Basic Python Review"
      ]
    },
    {
      "cell_type": "markdown",
      "metadata": {
        "id": "qmJt6AsZO_J-"
      },
      "source": [
        "## 1. For Loops\n",
        "a. Write a for loop that iterates a variable x from values 0 to 10 and prints x after each iteration."
      ]
    },
    {
      "cell_type": "code",
      "metadata": {
        "id": "cQhxTJk0OV7J",
        "colab": {
          "base_uri": "https://localhost:8080/"
        },
        "outputId": "4019f029-f897-40a8-d5b2-c12fa2d7c214"
      },
      "source": [
        "for x in range(11):\n",
        "    print(x, end=\" \")"
      ],
      "execution_count": null,
      "outputs": [
        {
          "output_type": "stream",
          "text": [
            "0 1 2 3 4 5 6 7 8 9 10 "
          ],
          "name": "stdout"
        }
      ]
    },
    {
      "cell_type": "markdown",
      "metadata": {
        "id": "LGwkbbdQQeIG"
      },
      "source": [
        "b. Write a for loop that iterates a vector < i , j > = < 1, 7 > with i increasing by 2 each iteration and j decreasing by 1 each iteration until i = j."
      ]
    },
    {
      "cell_type": "code",
      "metadata": {
        "id": "ujvyQtuDQfR0",
        "colab": {
          "base_uri": "https://localhost:8080/"
        },
        "outputId": "33afa518-74a8-49f2-bdc9-fe361f4bf0f3"
      },
      "source": [
        "\n",
        "\n",
        "i = 1\n",
        "j = 7\n",
        "\n",
        "for i in range(i, j, 2):\n",
        "    print(i, end=\" \")\n",
        "    j = j - 1\n",
        "\n",
        "\n",
        "\n",
        "\n",
        "    \n"
      ],
      "execution_count": null,
      "outputs": [
        {
          "output_type": "stream",
          "text": [
            "1 3 5 "
          ],
          "name": "stdout"
        }
      ]
    },
    {
      "cell_type": "markdown",
      "metadata": {
        "id": "y0OyML6APGDg"
      },
      "source": [
        "## 2. While Loops\n",
        "a. Write a while loop that squares a variable z, initialized at 1, until z is greater then 70."
      ]
    },
    {
      "cell_type": "code",
      "metadata": {
        "id": "bI1ENOx6RPkH",
        "colab": {
          "base_uri": "https://localhost:8080/"
        },
        "outputId": "0bc38627-8b8a-40c8-d921-900240d944c3"
      },
      "source": [
        "z = 1\n",
        "while z < 70:\n",
        "      print(z, end=\" \")\n",
        "      z = z * 2"
      ],
      "execution_count": null,
      "outputs": [
        {
          "output_type": "stream",
          "text": [
            "1 2 4 8 16 32 64 "
          ],
          "name": "stdout"
        }
      ]
    },
    {
      "cell_type": "markdown",
      "metadata": {
        "id": "2kLe8fdQRUW7"
      },
      "source": [
        "b. Write a while loop that returns the following:\n",
        "\n",
        "1010101\n",
        "\n",
        " 10101\n",
        "\n",
        "  101  \n",
        "\n",
        "   1   "
      ]
    },
    {
      "cell_type": "code",
      "metadata": {
        "id": "NaCp8sAzRWJi",
        "colab": {
          "base_uri": "https://localhost:8080/"
        },
        "outputId": "ad45b785-6247-422f-d425-22059c7f133f"
      },
      "source": [
        "i = 1010101\n",
        "while i >= 1: \n",
        "  print(i)\n",
        "  print()\n",
        "  i = i // 100\n",
        "\n"
      ],
      "execution_count": null,
      "outputs": [
        {
          "output_type": "stream",
          "text": [
            "1010101\n",
            "\n",
            "10101\n",
            "\n",
            "101\n",
            "\n",
            "1\n",
            "\n"
          ],
          "name": "stdout"
        }
      ]
    },
    {
      "cell_type": "markdown",
      "metadata": {
        "id": "I-DmpONEPO8i"
      },
      "source": [
        "## 3. Functions\n",
        "a. Write a function that calculates the area of a Domino's pizza given a diameter, _d_. (Use 3.14 for pi)"
      ]
    },
    {
      "cell_type": "code",
      "metadata": {
        "id": "BJW9qzoNST6k",
        "colab": {
          "base_uri": "https://localhost:8080/"
        },
        "outputId": "33e89816-1c72-4d71-cacd-24227bee24a9"
      },
      "source": [
        "def calcPizzaArea(d):\n",
        "    pi = 3.14\n",
        "    r = d / 2\n",
        "    return pi * (r**2)\n",
        "\n",
        "print(\"The area of my Domino's pizza is: {} inches.\".format(calcPizzaArea(10)))"
      ],
      "execution_count": null,
      "outputs": [
        {
          "output_type": "stream",
          "text": [
            "The area of my Domino's pizza is: 78.5 inches.\n"
          ],
          "name": "stdout"
        }
      ]
    },
    {
      "cell_type": "markdown",
      "metadata": {
        "id": "Vg7YISnqSUX1"
      },
      "source": [
        "b. Call the function to compute the area of a large Domino's pizza (large Domino's pizza have a diameter of 14 inches)."
      ]
    },
    {
      "cell_type": "code",
      "metadata": {
        "id": "lC5c-30sTC9n",
        "colab": {
          "base_uri": "https://localhost:8080/"
        },
        "outputId": "3f33824f-d840-48de-9240-cd5c5452ff04"
      },
      "source": [
        "print(\"The area of a large Domino's pizza is {} inches.\".format(calcPizzaArea(14)))"
      ],
      "execution_count": null,
      "outputs": [
        {
          "output_type": "stream",
          "text": [
            "The area of a large Domino's pizza is 153.86 inches.\n"
          ],
          "name": "stdout"
        }
      ]
    },
    {
      "cell_type": "markdown",
      "metadata": {
        "id": "i04PDYsqPSiI"
      },
      "source": [
        "## 4. Classes\n",
        "a. Define a class _cats_ with attributes name, age, and breed.\n",
        "Add an _init_ method that creates an empty list, _toys_. Create a method _pet_, which prints the phrase 'Purrr'. Create another method _info_, which returns the cats name, age, and breed."
      ]
    },
    {
      "cell_type": "code",
      "metadata": {
        "id": "GRWFAlJkWZjU"
      },
      "source": [
        "class Cats:\n",
        "  def __init__(self, name, age, breed):\n",
        "    self.name = name\n",
        "    self.age = age\n",
        "    self.breed = breed\n",
        "    self.toys = []\n",
        "\n",
        "  def pet(self):\n",
        "    print(\"Purrr\")\n",
        "\n",
        "  def info(self):\n",
        "    print(\"This is my cat, {}.\".format(self.name))\n",
        "    print(\"My cat is {} years old.\".format(self.age))\n",
        "    print(\"Its breed is {}.\".format(self.breed))\n",
        "\n",
        "\n",
        "\n"
      ],
      "execution_count": null,
      "outputs": []
    },
    {
      "cell_type": "markdown",
      "metadata": {
        "id": "TAh-1rGoWaPO"
      },
      "source": [
        "b. Create an instance of the class _cats_ with name 'Garfield', age 3, and breed 'Munchkin'."
      ]
    },
    {
      "cell_type": "code",
      "metadata": {
        "id": "NL9VnUBUZbtZ"
      },
      "source": [
        "myCat = Cats(\"Garfield\", 3, \"Munchkin\")"
      ],
      "execution_count": null,
      "outputs": []
    },
    {
      "cell_type": "markdown",
      "metadata": {
        "id": "g8fGczixDhnE"
      },
      "source": [
        "Call the method *pet* on the instance."
      ]
    },
    {
      "cell_type": "code",
      "metadata": {
        "id": "BCyO2qnMDhGM",
        "colab": {
          "base_uri": "https://localhost:8080/"
        },
        "outputId": "9389564d-3819-43fc-d43c-1aa7c3f557fa"
      },
      "source": [
        "myCat.pet()"
      ],
      "execution_count": null,
      "outputs": [
        {
          "output_type": "stream",
          "text": [
            "Purrr\n"
          ],
          "name": "stdout"
        }
      ]
    },
    {
      "cell_type": "markdown",
      "metadata": {
        "id": "38evUbyjDiAr"
      },
      "source": [
        "Call the method info on the instance."
      ]
    },
    {
      "cell_type": "code",
      "metadata": {
        "id": "Ru9W9mOwDhVM",
        "colab": {
          "base_uri": "https://localhost:8080/"
        },
        "outputId": "31e424ba-ffde-4c01-95cd-caff7b2f0e94"
      },
      "source": [
        "myCat.info()"
      ],
      "execution_count": null,
      "outputs": [
        {
          "output_type": "stream",
          "text": [
            "This is my cat, Garfield.\n",
            "My cat is 3 years old.\n",
            "Its breed is Munchkin.\n"
          ],
          "name": "stdout"
        }
      ]
    }
  ]
}