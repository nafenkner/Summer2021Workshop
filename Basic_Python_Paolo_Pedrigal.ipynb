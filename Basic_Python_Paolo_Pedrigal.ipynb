{
 "cells": [
  {
   "cell_type": "markdown",
   "metadata": {
    "id": "p25xcLH-O2Ng"
   },
   "source": [
    "# Basic Python Review"
   ]
  },
  {
   "cell_type": "markdown",
   "metadata": {
    "id": "qmJt6AsZO_J-"
   },
   "source": [
    "## 1. For Loops\n",
    "a. Write a for loop that iterates a variable x from values 0 to 10 and prints x after each iteration."
   ]
  },
  {
   "cell_type": "code",
   "execution_count": null,
   "metadata": {
    "colab": {
     "base_uri": "https://localhost:8080/"
    },
    "id": "cQhxTJk0OV7J",
    "outputId": "0ed900f1-44e0-4c9d-d73e-37dc284c001a"
   },
   "outputs": [
    {
     "name": "stdout",
     "output_type": "stream",
     "text": [
      "0\n",
      "1\n",
      "2\n",
      "3\n",
      "4\n",
      "5\n",
      "6\n",
      "7\n",
      "8\n",
      "9\n",
      "10\n"
     ]
    }
   ],
   "source": [
    "for x in range(11):\n",
    "  print(x)"
   ]
  },
  {
   "cell_type": "markdown",
   "metadata": {
    "id": "LGwkbbdQQeIG"
   },
   "source": [
    "b. Write a for loop that iterates a vector < i , j > = < 1, 7 > with i increasing by 2 each iteration and j decreasing by 1 each iteration until i = j."
   ]
  },
  {
   "cell_type": "code",
   "execution_count": null,
   "metadata": {
    "colab": {
     "base_uri": "https://localhost:8080/"
    },
    "id": "ujvyQtuDQfR0",
    "outputId": "2d2d6003-7870-4386-d638-3085a9e23894"
   },
   "outputs": [
    {
     "name": "stdout",
     "output_type": "stream",
     "text": [
      "Initial vector: [1 7]\n",
      "Final vector: [5 5]\n"
     ]
    }
   ],
   "source": [
    "import numpy as np\n",
    "\n",
    "i, j = 1, 7\n",
    "vector = np.array([i, j])\n",
    "print(\"Initial vector:\", vector)\n",
    "for k in range(abs(j - i)):    # iterating the difference between i and j amount of times\n",
    "  i += 2\n",
    "  j -= 1\n",
    "  if i == j:\n",
    "    vector[0] = i\n",
    "    vector[1] = j\n",
    "    break\n",
    "  elif i > j:\n",
    "    print(\"i will never be equal to j\")\n",
    "    break # to break out of infinite loop \n",
    "\n",
    "print(\"Final vector:\", vector)"
   ]
  },
  {
   "cell_type": "markdown",
   "metadata": {
    "id": "y0OyML6APGDg"
   },
   "source": [
    "## 2. While Loops\n",
    "a. Write a while loop that squares a variable z, initialized at 1, until z is greater then 70."
   ]
  },
  {
   "cell_type": "code",
   "execution_count": null,
   "metadata": {
    "colab": {
     "base_uri": "https://localhost:8080/"
    },
    "id": "bI1ENOx6RPkH",
    "outputId": "1c4d2244-f24b-4ccf-afac-0b56d64c4540"
   },
   "outputs": [
    {
     "name": "stdout",
     "output_type": "stream",
     "text": [
      "1\n",
      "4\n",
      "25\n",
      "676\n"
     ]
    }
   ],
   "source": [
    "z = 1\n",
    "while z <= 70:\n",
    "    z = z**2\n",
    "    print(z) # to check\n",
    "    z += 1   # to not have an infinite loop\n"
   ]
  },
  {
   "cell_type": "markdown",
   "metadata": {
    "id": "2kLe8fdQRUW7"
   },
   "source": [
    "b. Write a while loop that returns the following:\n",
    "\n",
    "1010101\n",
    "\n",
    " 10101\n",
    "\n",
    "  101  \n",
    "\n",
    "   1   "
   ]
  },
  {
   "cell_type": "code",
   "execution_count": null,
   "metadata": {
    "colab": {
     "base_uri": "https://localhost:8080/"
    },
    "id": "NaCp8sAzRWJi",
    "outputId": "12df685b-79e6-4185-ce4b-545df9c04e7e"
   },
   "outputs": [
    {
     "name": "stdout",
     "output_type": "stream",
     "text": [
      "1010101\n",
      "10101\n",
      "101\n",
      "1\n"
     ]
    }
   ],
   "source": [
    "num = 1010101\n",
    "while num > 0:\n",
    "  print(num)\n",
    "  num = num // (100)"
   ]
  },
  {
   "cell_type": "markdown",
   "metadata": {
    "id": "I-DmpONEPO8i"
   },
   "source": [
    "## 3. Functions\n",
    "a. Write a function that calculates the area of a Domino's pizza given a diameter, _d_. (Use 3.14 for pi)"
   ]
  },
  {
   "cell_type": "code",
   "execution_count": null,
   "metadata": {
    "id": "BJW9qzoNST6k"
   },
   "outputs": [],
   "source": [
    "import math\n",
    "\n",
    "def calculate_area(d):\n",
    "  # recall area is pi * r ** 2\n",
    "  # recall d = r * 2 -> r = d / 2\n",
    "  return math.pi * ((d/2) ** 2)"
   ]
  },
  {
   "cell_type": "markdown",
   "metadata": {
    "id": "Vg7YISnqSUX1"
   },
   "source": [
    "b. Call the function to compute the area of a large Domino's pizza (large Domino's pizza have a diameter of 14 inches)."
   ]
  },
  {
   "cell_type": "code",
   "execution_count": null,
   "metadata": {
    "colab": {
     "base_uri": "https://localhost:8080/"
    },
    "id": "lC5c-30sTC9n",
    "outputId": "794798a2-1a4f-4cbd-ad03-1cb24de8a352"
   },
   "outputs": [
    {
     "data": {
      "text/plain": [
       "153.93804002589985"
      ]
     },
     "execution_count": 81,
     "metadata": {
      "tags": []
     },
     "output_type": "execute_result"
    }
   ],
   "source": [
    "calculate_area(14)"
   ]
  },
  {
   "cell_type": "markdown",
   "metadata": {
    "id": "i04PDYsqPSiI"
   },
   "source": [
    "## 4. Classes\n",
    "a. Define a class _cats_ with attributes name, age, and breed.\n",
    "Add an _init_ method that creates an empty list, _toys_. Create a method _pet_, which prints the phrase 'Purrr'. Create another method _info_, which returns the cats name, age, and breed."
   ]
  },
  {
   "cell_type": "code",
   "execution_count": null,
   "metadata": {
    "id": "GRWFAlJkWZjU"
   },
   "outputs": [],
   "source": [
    "class Cats:\n",
    "\n",
    "  def __init__(self, name=\"\", age=-1, breed=\"\"):\n",
    "    self._name = name\n",
    "    self._age = age\n",
    "    self._breed = breed\n",
    "    toys = []\n",
    "\n",
    "  def pet(self):\n",
    "    print(\"Purrr\")\n",
    "\n",
    "  def info(self):\n",
    "    return (self._name, self._age, self._breed)"
   ]
  },
  {
   "cell_type": "markdown",
   "metadata": {
    "id": "TAh-1rGoWaPO"
   },
   "source": [
    "b. Create an instance of the class _cats_ with name 'Garfield', age 3, and breed 'Munchkin'."
   ]
  },
  {
   "cell_type": "code",
   "execution_count": null,
   "metadata": {
    "id": "NL9VnUBUZbtZ"
   },
   "outputs": [],
   "source": [
    "cat = Cats(\"Garfield\", 3, \"Munchkin\")"
   ]
  },
  {
   "cell_type": "markdown",
   "metadata": {
    "id": "g8fGczixDhnE"
   },
   "source": [
    "Call the method *pet* on the instance."
   ]
  },
  {
   "cell_type": "code",
   "execution_count": null,
   "metadata": {
    "colab": {
     "base_uri": "https://localhost:8080/"
    },
    "id": "BCyO2qnMDhGM",
    "outputId": "bb867a3d-bd43-4481-b84f-c941a5338a31"
   },
   "outputs": [
    {
     "name": "stdout",
     "output_type": "stream",
     "text": [
      "Purrr\n"
     ]
    }
   ],
   "source": [
    "cat.pet()"
   ]
  },
  {
   "cell_type": "markdown",
   "metadata": {
    "id": "38evUbyjDiAr"
   },
   "source": [
    "Call the method info on the instance."
   ]
  },
  {
   "cell_type": "code",
   "execution_count": null,
   "metadata": {
    "colab": {
     "base_uri": "https://localhost:8080/"
    },
    "id": "Ru9W9mOwDhVM",
    "outputId": "dab8a0d0-0260-4320-b141-e4b0d5d7d734"
   },
   "outputs": [
    {
     "data": {
      "text/plain": [
       "('Garfield', 3, 'Munchkin')"
      ]
     },
     "execution_count": 85,
     "metadata": {
      "tags": []
     },
     "output_type": "execute_result"
    }
   ],
   "source": [
    "cat.info()"
   ]
  }
 ],
 "metadata": {
  "accelerator": "GPU",
  "colab": {
   "collapsed_sections": [],
   "name": "Basic_Python_Paolo_Pedrigal.ipynb",
   "provenance": []
  },
  "kernelspec": {
   "display_name": "Python 3",
   "language": "python",
   "name": "python3"
  },
  "language_info": {
   "codemirror_mode": {
    "name": "ipython",
    "version": 3
   },
   "file_extension": ".py",
   "mimetype": "text/x-python",
   "name": "python",
   "nbconvert_exporter": "python",
   "pygments_lexer": "ipython3",
   "version": "3.8.5"
  }
 },
 "nbformat": 4,
 "nbformat_minor": 1
}
