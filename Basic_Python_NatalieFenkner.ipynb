{
  "nbformat": 4,
  "nbformat_minor": 0,
  "metadata": {
    "colab": {
      "name": "Basic_Python NatalieFenkner.ipynb",
      "provenance": [],
      "collapsed_sections": [],
      "include_colab_link": true
    },
    "kernelspec": {
      "name": "python3",
      "display_name": "Python 3"
    },
    "language_info": {
      "name": "python"
    }
  },
  "cells": [
    {
      "cell_type": "markdown",
      "metadata": {
        "id": "view-in-github",
        "colab_type": "text"
      },
      "source": [
        "<a href=\"https://colab.research.google.com/github/nafenkner/Summer2021Workshop/blob/Branch_1/Basic_Python_NatalieFenkner.ipynb\" target=\"_parent\"><img src=\"https://colab.research.google.com/assets/colab-badge.svg\" alt=\"Open In Colab\"/></a>"
      ]
    },
    {
      "cell_type": "markdown",
      "metadata": {
        "id": "p25xcLH-O2Ng"
      },
      "source": [
        "# Basic Python Review"
      ]
    },
    {
      "cell_type": "markdown",
      "metadata": {
        "id": "qmJt6AsZO_J-"
      },
      "source": [
        "## 1. For Loops\n",
        "a. Write a for loop that iterates a variable x from values 0 to 10 and prints x after each iteration."
      ]
    },
    {
      "cell_type": "code",
      "metadata": {
        "id": "cQhxTJk0OV7J",
        "colab": {
          "base_uri": "https://localhost:8080/"
        },
        "outputId": "329b48ce-ad45-4633-9cd9-61e6901c7b09"
      },
      "source": [
        "for x in range(11):\n",
        "    print(x)"
      ],
      "execution_count": null,
      "outputs": [
        {
          "output_type": "stream",
          "text": [
            "0\n",
            "1\n",
            "2\n",
            "3\n",
            "4\n",
            "5\n",
            "6\n",
            "7\n",
            "8\n",
            "9\n",
            "10\n"
          ],
          "name": "stdout"
        }
      ]
    },
    {
      "cell_type": "markdown",
      "metadata": {
        "id": "LGwkbbdQQeIG"
      },
      "source": [
        "b. Write a for loop that iterates a vector < i , j > = < 1, 7 > with i increasing by 2 each iteration and j decreasing by 1 each iteration until i = j."
      ]
    },
    {
      "cell_type": "code",
      "metadata": {
        "id": "ujvyQtuDQfR0",
        "colab": {
          "base_uri": "https://localhost:8080/",
          "height": 130
        },
        "outputId": "a81ed49c-b317-4016-8590-7af55b50012d"
      },
      "source": [
        "for i,j in \n",
        "range(7):"
      ],
      "execution_count": null,
      "outputs": [
        {
          "output_type": "error",
          "ename": "SyntaxError",
          "evalue": "ignored",
          "traceback": [
            "\u001b[0;36m  File \u001b[0;32m\"<ipython-input-16-fad94649db13>\"\u001b[0;36m, line \u001b[0;32m1\u001b[0m\n\u001b[0;31m    for i,j in\u001b[0m\n\u001b[0m               ^\u001b[0m\n\u001b[0;31mSyntaxError\u001b[0m\u001b[0;31m:\u001b[0m invalid syntax\n"
          ]
        }
      ]
    },
    {
      "cell_type": "markdown",
      "metadata": {
        "id": "y0OyML6APGDg"
      },
      "source": [
        "## 2. While Loops\n",
        "a. Write a while loop that squares a variable z, initialized at 1, until z is greater then 70."
      ]
    },
    {
      "cell_type": "code",
      "metadata": {
        "id": "bI1ENOx6RPkH",
        "colab": {
          "base_uri": "https://localhost:8080/"
        },
        "outputId": "a4c7e5bd-5c98-47ff-916c-7be168995925"
      },
      "source": [
        "z = 1\n",
        "while (z*z <70):\n",
        "  print (z*z)\n",
        "  z+=1\n"
      ],
      "execution_count": null,
      "outputs": [
        {
          "output_type": "stream",
          "text": [
            "1\n",
            "4\n",
            "9\n",
            "16\n",
            "25\n",
            "36\n",
            "49\n",
            "64\n"
          ],
          "name": "stdout"
        }
      ]
    },
    {
      "cell_type": "markdown",
      "metadata": {
        "id": "2kLe8fdQRUW7"
      },
      "source": [
        "b. Write a while loop that returns the following:\n",
        "\n",
        "1010101\n",
        "\n",
        " 10101\n",
        "\n",
        "  101  \n",
        "\n",
        "   1   "
      ]
    },
    {
      "cell_type": "code",
      "metadata": {
        "id": "NaCp8sAzRWJi",
        "colab": {
          "base_uri": "https://localhost:8080/"
        },
        "outputId": "4388e93f-a6fb-4dfc-8d5a-fe725d433ddc"
      },
      "source": [
        "i = 3\n",
        "j=0\n",
        "while(i>1):\n",
        "  x=\"10\"*i+\"1\"+\" \"*j\n",
        "  print(x)\n",
        "  i=i-1\n",
        "  j=j+2"
      ],
      "execution_count": null,
      "outputs": [
        {
          "output_type": "stream",
          "text": [
            "1010101\n",
            "10101  \n"
          ],
          "name": "stdout"
        }
      ]
    },
    {
      "cell_type": "markdown",
      "metadata": {
        "id": "I-DmpONEPO8i"
      },
      "source": [
        "## 3. Functions\n",
        "a. Write a function that calculates the area of a Domino's pizza given a diameter, _d_. (Use 3.14 for pi)"
      ]
    },
    {
      "cell_type": "code",
      "metadata": {
        "id": "BJW9qzoNST6k"
      },
      "source": [
        "import math\n",
        "\n",
        "def calculate_area(d):\n",
        "  return math.pi * ((d/2) ** 2)"
      ],
      "execution_count": null,
      "outputs": []
    },
    {
      "cell_type": "markdown",
      "metadata": {
        "id": "Vg7YISnqSUX1"
      },
      "source": [
        "b. Call the function to compute the area of a large Domino's pizza (large Domino's pizza have a diameter of 14 inches)."
      ]
    },
    {
      "cell_type": "code",
      "metadata": {
        "id": "lC5c-30sTC9n",
        "colab": {
          "base_uri": "https://localhost:8080/"
        },
        "outputId": "d47c64d6-ec00-468f-9058-b135b8a886a3"
      },
      "source": [
        "calculate_area(14)"
      ],
      "execution_count": null,
      "outputs": [
        {
          "output_type": "execute_result",
          "data": {
            "text/plain": [
              "153.93804002589985"
            ]
          },
          "metadata": {
            "tags": []
          },
          "execution_count": 9
        }
      ]
    },
    {
      "cell_type": "markdown",
      "metadata": {
        "id": "i04PDYsqPSiI"
      },
      "source": [
        "## 4. Classes\n",
        "a. Define a class _cats_ with attributes name, age, and breed.\n",
        "Add an _init_ method that creates an empty list, _toys_. Create a method _pet_, which prints the phrase 'Purrr'. Create another method _info_, which returns the cats name, age, and breed."
      ]
    },
    {
      "cell_type": "code",
      "metadata": {
        "id": "GRWFAlJkWZjU"
      },
      "source": [
        "class Cats:\n",
        "\n",
        " def __init__(self, name = \"\", age =\"\", breed):\n",
        "   self.name = name\n",
        "   self.age = age\n",
        "   self.breed = breed \n",
        "\n",
        "   def pet(self):\n",
        "     print('Purrr')\n",
        "\n",
        "   def info(self):\n",
        "   return (self._name, self._age, self._breed)"
      ],
      "execution_count": null,
      "outputs": []
    },
    {
      "cell_type": "markdown",
      "metadata": {
        "id": "TAh-1rGoWaPO"
      },
      "source": [
        "b. Create an instance of the class _cats_ with name 'Garfield', age 3, and breed 'Munchkin'."
      ]
    },
    {
      "cell_type": "code",
      "metadata": {
        "id": "NL9VnUBUZbtZ"
      },
      "source": [
        "thecat = Cats(\"Garfield\", 3, \"Munchkin\")"
      ],
      "execution_count": null,
      "outputs": []
    },
    {
      "cell_type": "markdown",
      "metadata": {
        "id": "g8fGczixDhnE"
      },
      "source": [
        "Call the method *pet* on the instance."
      ]
    },
    {
      "cell_type": "code",
      "metadata": {
        "id": "BCyO2qnMDhGM"
      },
      "source": [
        "thecat.pet()"
      ],
      "execution_count": null,
      "outputs": []
    },
    {
      "cell_type": "markdown",
      "metadata": {
        "id": "38evUbyjDiAr"
      },
      "source": [
        "Call the method info on the instance."
      ]
    },
    {
      "cell_type": "code",
      "metadata": {
        "id": "Ru9W9mOwDhVM"
      },
      "source": [
        "thecat.info()"
      ],
      "execution_count": null,
      "outputs": []
    }
  ]
}